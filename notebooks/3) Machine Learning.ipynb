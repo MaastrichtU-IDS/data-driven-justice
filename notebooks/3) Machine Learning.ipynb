{
 "cells": [
  {
   "cell_type": "markdown",
   "metadata": {},
   "source": [
    "# A Breef Data Science Pipeline - Part 3\n",
    "\n",
    "#### [Institute of Data Science at Maastricht University](https://www.maastrichtuniversity.nl/research/institute-data-science)\n",
    "---"
   ]
  },
  {
   "cell_type": "markdown",
   "metadata": {},
   "source": [
    "## Data Analysis\n",
    "---"
   ]
  },
  {
   "cell_type": "markdown",
   "metadata": {},
   "source": [
    " Data Dimension Milestones\n",
    " \n",
    " - Define a Method\n",
    " - Features to train and test\n",
    " - Predictive Model\n",
    " - Evaluation Metrics\n"
   ]
  },
  {
   "cell_type": "markdown",
   "metadata": {},
   "source": [
    "In any case is easy to identify how to tackle a predictive probles, since is important to identify the method to respond the target variables.\n",
    "    - Pattern: Anomaly Detection\n",
    "    - Cicles, time: Time Series\n",
    "    - Category: Classification\n",
    "    - Quantity: Regression\n",
    "    - Design a concept to visualize the outcome\n",
    "- Choose and develop the algorithm (e.g. if Classification, SVM or Bayes?)"
   ]
  },
  {
   "cell_type": "markdown",
   "metadata": {},
   "source": [
    "![](../img/machinelearning.png)  \n",
    "*This image is an extract from [SAP](https://blogs.sap.com/2016/05/11/go-for-the-intelligent-enterprise/) via [@JM_SAP](https://twitter.com/JM_SAP)*"
   ]
  },
  {
   "cell_type": "markdown",
   "metadata": {},
   "source": [
    "---\n",
    "- ### Define a Method"
   ]
  },
  {
   "cell_type": "code",
   "execution_count": 1,
   "metadata": {},
   "outputs": [],
   "source": [
    "import pandas as pd\n",
    "import numpy as np\n",
    "import seaborn as sb\n",
    "import matplotlib.pyplot as plt\n",
    "%matplotlib inline"
   ]
  },
  {
   "cell_type": "markdown",
   "metadata": {},
   "source": [
    "In this case, we are treating with continues variables, the number of crimes, currently we have different dimesions to describe those crimes, also some other numerical variables thought.\n",
    "\n",
    "We assume is important to take into account the number of Violent Crimes since is going to be developed new public policies, so we want to predict in a certain year on a certain municipality the number of violent crimes.\n",
    "\n",
    "Let's see if is possible."
   ]
  },
  {
   "cell_type": "markdown",
   "metadata": {},
   "source": [
    "- Dataset name: Crime, type of crime, municipality  \n",
    "- Additional Information: [Source](https://data.overheid.nl/data/dataset/misdrijven-soort-misdrijf-gemeente), \n",
    "[Metadata](https://politieopendata.cbs.nl/portal.html?_la=nl&_catalog=Politie&graphtype=Table&tableId=47004NED&_theme=66), \n",
    "[License](https://data.overheid.nl/licenties-voor-hergebruik) CC-BY 4.0  "
   ]
  },
  {
   "cell_type": "code",
   "execution_count": 2,
   "metadata": {},
   "outputs": [],
   "source": [
    "df_crime = pd.read_csv('../data/crime/crimes_municipality_ingest.tsv', sep='\\t', index_col=0)"
   ]
  },
  {
   "cell_type": "code",
   "execution_count": 3,
   "metadata": {},
   "outputs": [],
   "source": [
    "df_population = pd.read_csv('../data/crime/population_netherlands.tsv', sep='\\t')"
   ]
  },
  {
   "cell_type": "code",
   "execution_count": 4,
   "metadata": {},
   "outputs": [],
   "source": [
    "df_population.set_index('CBScode', inplace=True)"
   ]
  },
  {
   "cell_type": "code",
   "execution_count": 5,
   "metadata": {},
   "outputs": [
    {
     "data": {
      "text/plain": [
       "Index(['CBScode', 'Perioden', '  HIC: Theft / burglary dwelling, complete',\n",
       "       '  HIC: Theft / burglary dwelling, attempts', 'HIC: Violent Crime',\n",
       "       'HIC: Street Roof', 'HIC: Robberies', 'Undermining public order',\n",
       "       'Threat', 'Fire / Explosion', 'Theft of moped, moped, bike',\n",
       "       'Theft of / from vehicles', 'Theft of motor vehicles',\n",
       "       'Theft / burglary companies / institutions',\n",
       "       'Theft / burglary garage / barn / shed', 'Drug trafficking',\n",
       "       'Trespassing', 'mistreatment', 'Overt violence (person)',\n",
       "       'Or destruction. cause damage', 'Arms Trade', 'pickpocketing',\n",
       "       'morals Felony', 'Municipality', 'Province', 'Population',\n",
       "       'Population_density(p/km)', 'Municipality Size'],\n",
       "      dtype='object')"
      ]
     },
     "execution_count": 5,
     "metadata": {},
     "output_type": "execute_result"
    }
   ],
   "source": [
    "df_crime.columns"
   ]
  },
  {
   "cell_type": "markdown",
   "metadata": {},
   "source": [
    "---\n",
    "- ### Features to Train and Test"
   ]
  },
  {
   "cell_type": "markdown",
   "metadata": {},
   "source": [
    "Choose the crime you want to predict"
   ]
  },
  {
   "cell_type": "code",
   "execution_count": 6,
   "metadata": {},
   "outputs": [],
   "source": [
    "crimeType='HIC: Violent Crime'"
   ]
  },
  {
   "cell_type": "code",
   "execution_count": 7,
   "metadata": {},
   "outputs": [],
   "source": [
    "# create a table to train a crime over certain period\n",
    "def get_crime_table(crimeType):    \n",
    "    df = pd.DataFrame()\n",
    "    for column in df_crime['Perioden'].unique():\n",
    "        period = df_crime[df_crime['Perioden'] ==str(column)].groupby(['CBScode']).sum()[crimeType]\n",
    "        df[str(column)] = period\n",
    "    return df"
   ]
  },
  {
   "cell_type": "code",
   "execution_count": 8,
   "metadata": {},
   "outputs": [],
   "source": [
    "df_features = pd.merge(get_crime_table(crimeType), df_population, how='left', left_index=True, right_index=True)"
   ]
  },
  {
   "cell_type": "code",
   "execution_count": 9,
   "metadata": {},
   "outputs": [],
   "source": [
    "df_features.fillna(0, inplace=True)"
   ]
  },
  {
   "cell_type": "code",
   "execution_count": 10,
   "metadata": {},
   "outputs": [
    {
     "data": {
      "text/html": [
       "<div>\n",
       "<style scoped>\n",
       "    .dataframe tbody tr th:only-of-type {\n",
       "        vertical-align: middle;\n",
       "    }\n",
       "\n",
       "    .dataframe tbody tr th {\n",
       "        vertical-align: top;\n",
       "    }\n",
       "\n",
       "    .dataframe thead th {\n",
       "        text-align: right;\n",
       "    }\n",
       "</style>\n",
       "<table border=\"1\" class=\"dataframe\">\n",
       "  <thead>\n",
       "    <tr style=\"text-align: right;\">\n",
       "      <th></th>\n",
       "      <th>2014JJ00</th>\n",
       "      <th>2015JJ00</th>\n",
       "      <th>2016JJ00</th>\n",
       "      <th>2017JJ00</th>\n",
       "      <th>Municipality</th>\n",
       "      <th>Province</th>\n",
       "      <th>Population</th>\n",
       "      <th>Population_density(p/km)</th>\n",
       "    </tr>\n",
       "    <tr>\n",
       "      <th>CBScode</th>\n",
       "      <th></th>\n",
       "      <th></th>\n",
       "      <th></th>\n",
       "      <th></th>\n",
       "      <th></th>\n",
       "      <th></th>\n",
       "      <th></th>\n",
       "      <th></th>\n",
       "    </tr>\n",
       "  </thead>\n",
       "  <tbody>\n",
       "    <tr>\n",
       "      <th>GM0518</th>\n",
       "      <td>4738.0</td>\n",
       "      <td>4279.0</td>\n",
       "      <td>3996.0</td>\n",
       "      <td>4066.0</td>\n",
       "      <td>Hague, TheThe Hague</td>\n",
       "      <td>South Holland</td>\n",
       "      <td>508592.0</td>\n",
       "      <td>6131.0</td>\n",
       "    </tr>\n",
       "    <tr>\n",
       "      <th>GM0546</th>\n",
       "      <td>800.0</td>\n",
       "      <td>620.0</td>\n",
       "      <td>639.0</td>\n",
       "      <td>640.0</td>\n",
       "      <td>Leiden</td>\n",
       "      <td>South Holland</td>\n",
       "      <td>121199.0</td>\n",
       "      <td>5409.0</td>\n",
       "    </tr>\n",
       "    <tr>\n",
       "      <th>GM0392</th>\n",
       "      <td>840.0</td>\n",
       "      <td>760.0</td>\n",
       "      <td>730.0</td>\n",
       "      <td>698.0</td>\n",
       "      <td>Haarlem</td>\n",
       "      <td>North Holland</td>\n",
       "      <td>155205.0</td>\n",
       "      <td>5195.0</td>\n",
       "    </tr>\n",
       "    <tr>\n",
       "      <th>GM0363</th>\n",
       "      <td>7929.0</td>\n",
       "      <td>7692.0</td>\n",
       "      <td>7645.0</td>\n",
       "      <td>7228.0</td>\n",
       "      <td>Amsterdam</td>\n",
       "      <td>North Holland</td>\n",
       "      <td>853312.0</td>\n",
       "      <td>4767.0</td>\n",
       "    </tr>\n",
       "    <tr>\n",
       "      <th>GM0502</th>\n",
       "      <td>351.0</td>\n",
       "      <td>397.0</td>\n",
       "      <td>366.0</td>\n",
       "      <td>306.0</td>\n",
       "      <td>Capelle aan den IJssel</td>\n",
       "      <td>South Holland</td>\n",
       "      <td>66177.0</td>\n",
       "      <td>4640.0</td>\n",
       "    </tr>\n",
       "    <tr>\n",
       "      <th>GM0606</th>\n",
       "      <td>511.0</td>\n",
       "      <td>516.0</td>\n",
       "      <td>557.0</td>\n",
       "      <td>510.0</td>\n",
       "      <td>Schiedam</td>\n",
       "      <td>South Holland</td>\n",
       "      <td>76487.0</td>\n",
       "      <td>4230.0</td>\n",
       "    </tr>\n",
       "    <tr>\n",
       "      <th>GM0513</th>\n",
       "      <td>558.0</td>\n",
       "      <td>471.0</td>\n",
       "      <td>437.0</td>\n",
       "      <td>436.0</td>\n",
       "      <td>Gouda</td>\n",
       "      <td>South Holland</td>\n",
       "      <td>70923.0</td>\n",
       "      <td>4225.0</td>\n",
       "    </tr>\n",
       "    <tr>\n",
       "      <th>GM0503</th>\n",
       "      <td>578.0</td>\n",
       "      <td>550.0</td>\n",
       "      <td>441.0</td>\n",
       "      <td>398.0</td>\n",
       "      <td>Delft</td>\n",
       "      <td>South Holland</td>\n",
       "      <td>101493.0</td>\n",
       "      <td>4218.0</td>\n",
       "    </tr>\n",
       "    <tr>\n",
       "      <th>GM0556</th>\n",
       "      <td>139.0</td>\n",
       "      <td>116.0</td>\n",
       "      <td>110.0</td>\n",
       "      <td>136.0</td>\n",
       "      <td>Maassluis</td>\n",
       "      <td>South Holland</td>\n",
       "      <td>32097.0</td>\n",
       "      <td>3751.0</td>\n",
       "    </tr>\n",
       "    <tr>\n",
       "      <th>GM0542</th>\n",
       "      <td>86.0</td>\n",
       "      <td>64.0</td>\n",
       "      <td>75.0</td>\n",
       "      <td>78.0</td>\n",
       "      <td>Krimpen aan den IJssel</td>\n",
       "      <td>South Holland</td>\n",
       "      <td>28814.0</td>\n",
       "      <td>3681.0</td>\n",
       "    </tr>\n",
       "  </tbody>\n",
       "</table>\n",
       "</div>"
      ],
      "text/plain": [
       "         2014JJ00  2015JJ00  2016JJ00  2017JJ00            Municipality  \\\n",
       "CBScode                                                                   \n",
       "GM0518     4738.0    4279.0    3996.0    4066.0     Hague, TheThe Hague   \n",
       "GM0546      800.0     620.0     639.0     640.0                  Leiden   \n",
       "GM0392      840.0     760.0     730.0     698.0                 Haarlem   \n",
       "GM0363     7929.0    7692.0    7645.0    7228.0               Amsterdam   \n",
       "GM0502      351.0     397.0     366.0     306.0  Capelle aan den IJssel   \n",
       "GM0606      511.0     516.0     557.0     510.0                Schiedam   \n",
       "GM0513      558.0     471.0     437.0     436.0                   Gouda   \n",
       "GM0503      578.0     550.0     441.0     398.0                   Delft   \n",
       "GM0556      139.0     116.0     110.0     136.0               Maassluis   \n",
       "GM0542       86.0      64.0      75.0      78.0  Krimpen aan den IJssel   \n",
       "\n",
       "              Province  Population  Population_density(p/km)  \n",
       "CBScode                                                       \n",
       "GM0518   South Holland    508592.0                    6131.0  \n",
       "GM0546   South Holland    121199.0                    5409.0  \n",
       "GM0392   North Holland    155205.0                    5195.0  \n",
       "GM0363   North Holland    853312.0                    4767.0  \n",
       "GM0502   South Holland     66177.0                    4640.0  \n",
       "GM0606   South Holland     76487.0                    4230.0  \n",
       "GM0513   South Holland     70923.0                    4225.0  \n",
       "GM0503   South Holland    101493.0                    4218.0  \n",
       "GM0556   South Holland     32097.0                    3751.0  \n",
       "GM0542   South Holland     28814.0                    3681.0  "
      ]
     },
     "execution_count": 10,
     "metadata": {},
     "output_type": "execute_result"
    }
   ],
   "source": [
    "df_features.sort_values('Population_density(p/km)', ascending=False).head(10)"
   ]
  },
  {
   "cell_type": "markdown",
   "metadata": {},
   "source": [
    "Remember: Bad data leads to bad models. Always check your data first.\n",
    "\n",
    "Assured that our data is now as clean as we can make it — and armed with some cursory knowledge of the distributions and relationships in our data set — it's time to make the next big step in our analysis: Splitting the data into training and testing sets.\n",
    "\n",
    "A training set is a random subset of the data that we use to train our models.\n",
    "\n",
    "A testing set is a random subset of the data (mutually exclusive from the training set) that we use to validate our models on unforseen data.\n",
    "\n",
    "Especially in sparse data sets like ours, it's easy for models to overfit the data: The model will learn the training set so well that it won't be able to handle most of the cases it's never seen before. This is why it's important for us to build the model with the training set, but score it with the testing set.\n",
    "\n",
    "Note that once we split the data into a training and testing set, we should treat the testing set like it no longer exists: We cannot use any information from the testing set to build our model or else we're cheating."
   ]
  },
  {
   "cell_type": "code",
   "execution_count": 11,
   "metadata": {},
   "outputs": [],
   "source": [
    "X = df_features.select_dtypes(exclude='object')\n",
    "X = X.loc[:, X.columns != '2017JJ00'].values\n",
    "y = df_features['2017JJ00'].values"
   ]
  },
  {
   "cell_type": "code",
   "execution_count": 13,
   "metadata": {},
   "outputs": [],
   "source": [
    "from sklearn.cross_validation import train_test_split\n",
    "X_train, X_test, y_train, y_test = train_test_split(X, y, test_size=0.33, random_state=5)"
   ]
  },
  {
   "cell_type": "markdown",
   "metadata": {},
   "source": [
    "With our data split, we can start fitting models to our data"
   ]
  },
  {
   "cell_type": "markdown",
   "metadata": {},
   "source": [
    "---\n",
    "- ### Predictive Model"
   ]
  },
  {
   "cell_type": "markdown",
   "metadata": {},
   "source": [
    "#### Linear Regression"
   ]
  },
  {
   "cell_type": "code",
   "execution_count": 14,
   "metadata": {},
   "outputs": [],
   "source": [
    "from sklearn import linear_model"
   ]
  },
  {
   "cell_type": "code",
   "execution_count": 15,
   "metadata": {},
   "outputs": [],
   "source": [
    "# Model fit\n",
    "lr_model = linear_model.LinearRegression()\n",
    "lr_model.fit(X_train, y_train)\n",
    "# Model Predict\n",
    "y_predict = lr_model.predict(X_test)"
   ]
  },
  {
   "cell_type": "code",
   "execution_count": 16,
   "metadata": {},
   "outputs": [
    {
     "data": {
      "text/plain": [
       "<matplotlib.collections.PathCollection at 0x11a461160>"
      ]
     },
     "execution_count": 16,
     "metadata": {},
     "output_type": "execute_result"
    },
    {
     "data": {
      "image/png": "[encoded data removed]",
      "text/plain": [
       "<matplotlib.figure.Figure at 0x1147ee940>"
      ]
     },
     "metadata": {},
     "output_type": "display_data"
    }
   ],
   "source": [
    "# Plot the results\n",
    "plt.figure()\n",
    "plt.plot([y.min(), y.max()], [y.min(), y.max()], 'k--')\n",
    "plt.scatter(y_test, y_predict, s=20, edgecolor=\"black\", c=\"darkorange\", label=\"Test vs Real\")"
   ]
  },
  {
   "cell_type": "code",
   "execution_count": 18,
   "metadata": {},
   "outputs": [
    {
     "data": {
      "text/plain": [
       "0.9910780084174352"
      ]
     },
     "execution_count": 18,
     "metadata": {},
     "output_type": "execute_result"
    }
   ],
   "source": [
    "lr_model.score(X_test, y_test)"
   ]
  },
  {
   "cell_type": "code",
   "execution_count": 21,
   "metadata": {},
   "outputs": [],
   "source": [
    "year1 = 50.\n",
    "year2 = 60.\n",
    "year3 = 70.\n",
    "population = 60000.\n",
    "pop_density = 200."
   ]
  },
  {
   "cell_type": "code",
   "execution_count": 22,
   "metadata": {},
   "outputs": [],
   "source": [
    "new_data = np.array([[year1, year2, year3, population, pop_density]])"
   ]
  },
  {
   "cell_type": "code",
   "execution_count": 24,
   "metadata": {},
   "outputs": [
    {
     "name": "stdout",
     "output_type": "stream",
     "text": [
      "Having HIC: Violent Crime for the last 3 years 50.0,60.0,70.0\n",
      "and a population of 60000.0 with a density of 200.0\n",
      "Prediction of next year 53.35003347495084\n"
     ]
    }
   ],
   "source": [
    "print('Having {} for the last 3 years {},{},{}\\nand a population of {} with a density of {}\\nPrediction of next year {}'.format(\n",
    "    crimeType, year1, year2, year3, population, pop_density, lr_model.predict(new_data)[0]))"
   ]
  },
  {
   "cell_type": "markdown",
   "metadata": {},
   "source": [
    "#### Decision Tree Regression\n",
    "\n",
    "The `decision trees` is used to fit a sine curve with addition noisy observation. As a result, it learns local linear regressions approximating the sine curve.\n",
    "\n",
    "We can see that if the maximum depth of the tree (controlled by the `max_depth` parameter) is set too high, the decision trees learn too fine\n",
    "details of the training data and learn from the noise, i.e. they overfit.\n",
    "\n",
    "The nice part about decision tree is that they are scale-invariant, i.e., the scale of the features does not affect their performance, unlike many Machine Learning models. In other words, it doesn't matter if our features range from 0 to 1 or 0 to 1,000; decision tree classifiers will work with them just the same."
   ]
  },
  {
   "cell_type": "code",
   "execution_count": 25,
   "metadata": {},
   "outputs": [],
   "source": [
    "from sklearn.tree import DecisionTreeRegressor"
   ]
  },
  {
   "cell_type": "code",
   "execution_count": 26,
   "metadata": {},
   "outputs": [],
   "source": [
    "# Model fit\n",
    "dt_model = DecisionTreeRegressor(max_depth=2)\n",
    "dt_model.fit(X_train, y_train)\n",
    "# Model Predict\n",
    "y_predict = dt_model.predict(X_test)"
   ]
  },
  {
   "cell_type": "code",
   "execution_count": 27,
   "metadata": {},
   "outputs": [
    {
     "data": {
      "text/plain": [
       "<matplotlib.collections.PathCollection at 0x11a5c6e48>"
      ]
     },
     "execution_count": 27,
     "metadata": {},
     "output_type": "execute_result"
    },
    {
     "data": {
      "image/png": "[encoded data removed]",
      "text/plain": [
       "<matplotlib.figure.Figure at 0x10daa9550>"
      ]
     },
     "metadata": {},
     "output_type": "display_data"
    }
   ],
   "source": [
    "# Plot the results\n",
    "plt.figure()\n",
    "plt.plot([y.min(), y.max()], [y.min(), y.max()], 'k--')\n",
    "plt.scatter(y_test, y_predict, s=20, edgecolor=\"black\", c=\"darkorange\", label=\"Test vs Real\")"
   ]
  },
  {
   "cell_type": "markdown",
   "metadata": {},
   "source": [
    "#### Neural Networks - Multilayer Perceptorns Regressor"
   ]
  },
  {
   "cell_type": "code",
   "execution_count": 34,
   "metadata": {},
   "outputs": [],
   "source": [
    "from sklearn.neural_network import MLPRegressor"
   ]
  },
  {
   "cell_type": "code",
   "execution_count": 35,
   "metadata": {},
   "outputs": [],
   "source": [
    "# Model fit\n",
    "nn_model = MLPRegressor()\n",
    "nn_model.fit(X_train, y_train)\n",
    "# Model Predict\n",
    "y_predict = nn_model.predict(X_test)"
   ]
  },
  {
   "cell_type": "code",
   "execution_count": 36,
   "metadata": {},
   "outputs": [
    {
     "data": {
      "text/plain": [
       "<matplotlib.collections.PathCollection at 0x11b0e86a0>"
      ]
     },
     "execution_count": 36,
     "metadata": {},
     "output_type": "execute_result"
    },
    {
     "data": {
      "image/png": "[encoded data removed]",
      "text/plain": [
       "<matplotlib.figure.Figure at 0x11a617c50>"
      ]
     },
     "metadata": {},
     "output_type": "display_data"
    }
   ],
   "source": [
    "# Plot the results\n",
    "plt.figure()\n",
    "plt.plot([y.min(), y.max()], [y.min(), y.max()], 'k--')\n",
    "plt.scatter(y_test, y_predict, s=20, edgecolor=\"black\", c=\"darkorange\", label=\"Test vs Real\")"
   ]
  },
  {
   "cell_type": "markdown",
   "metadata": {},
   "source": [
    "---\n",
    "- ### Evaluation Metrics"
   ]
  },
  {
   "cell_type": "code",
   "execution_count": 37,
   "metadata": {},
   "outputs": [
    {
     "data": {
      "text/plain": [
       "<matplotlib.axes._subplots.AxesSubplot at 0x11b0de8d0>"
      ]
     },
     "execution_count": 37,
     "metadata": {},
     "output_type": "execute_result"
    },
    {
     "data": {
      "image/png": "[encoded data removed]",
      "text/plain": [
       "<matplotlib.figure.Figure at 0x11a621400>"
      ]
     },
     "metadata": {},
     "output_type": "display_data"
    }
   ],
   "source": [
    "model_scores = []\n",
    "\n",
    "for repetition in range(1000):\n",
    "    X_train, X_test, y_train, y_test = train_test_split(X, y, test_size=0.33)\n",
    "    \n",
    "    model = DecisionTreeRegressor(max_depth=2)\n",
    "    model.fit(X_train, y_train)\n",
    "    score = model.score(X_test, y_test)\n",
    "    model_scores.append(score)\n",
    "    \n",
    "sb.distplot(model_scores)"
   ]
  },
  {
   "cell_type": "markdown",
   "metadata": {},
   "source": [
    "With the summary on hand, ask…\n",
    "- Does the outcome makes sense?\n",
    "- What does the important variables mean? (on “human” language)\n",
    "- How improve the outcome? (add more target variables? Change it? Change the parameters? Change the method?)"
   ]
  },
  {
   "cell_type": "markdown",
   "metadata": {},
   "source": [
    "---\n",
    "## Data Communication"
   ]
  },
  {
   "cell_type": "markdown",
   "metadata": {},
   "source": [
    " Data Dimension Milestones\n",
    " \n",
    "- Documentation\n",
    "- Results\n",
    "- Visualization\n",
    "- Data Product"
   ]
  },
  {
   "cell_type": "code",
   "execution_count": null,
   "metadata": {},
   "outputs": [],
   "source": []
  },
  {
   "cell_type": "code",
   "execution_count": null,
   "metadata": {},
   "outputs": [],
   "source": []
  },
  {
   "cell_type": "markdown",
   "metadata": {},
   "source": [
    "---\n",
    "- ### Documentation"
   ]
  },
  {
   "cell_type": "markdown",
   "metadata": {},
   "source": [
    "- Document the procedures\n",
    "- Versioning control of script for replicable science\n",
    "- Develop a Data Storytelling"
   ]
  },
  {
   "cell_type": "markdown",
   "metadata": {},
   "source": [
    "Ensuring that our work is reproducible is the last and — arguably — most important step in any analysis. As a rule, we shouldn't place much weight on a discovery that can't be reproduced. As such, if our analysis isn't reproducible, we might as well not have done it.\n",
    "\n",
    "Notebooks like this one go a long way toward making our work reproducible. Since we documented every step as we moved along, we have a written record of what we did and why we did it — both in text and code.\n",
    "\n",
    "Beyond recording what we did, we should also document what software and hardware we used to perform our analysis. This typically goes at the top of our notebooks so our readers know what tools to use.\n",
    "\n",
    "[Sebastian Raschka](https://sebastianraschka.com/) created a handy notebook tool for this:"
   ]
  },
  {
   "cell_type": "code",
   "execution_count": 38,
   "metadata": {},
   "outputs": [],
   "source": [
    "#!pip install watermark\n",
    "#only install once"
   ]
  },
  {
   "cell_type": "code",
   "execution_count": 102,
   "metadata": {},
   "outputs": [],
   "source": [
    "%load_ext watermark"
   ]
  },
  {
   "cell_type": "code",
   "execution_count": 105,
   "metadata": {},
   "outputs": [
    {
     "name": "stdout",
     "output_type": "stream",
     "text": [
      "Maastricht University Mon Feb 26 2018 \n",
      "\n",
      "CPython 3.5.4\n",
      "IPython 6.2.1\n",
      "\n",
      "numpy 1.14.1\n",
      "pandas 0.22.0\n",
      "sklearn 0.19.1\n",
      "matplotlib 2.1.1\n",
      "\n",
      "compiler   : GCC 4.2.1 Compatible Clang 4.0.1 (tags/RELEASE_401/final)\n",
      "system     : Darwin\n",
      "release    : 17.4.0\n",
      "machine    : x86_64\n",
      "processor  : i386\n",
      "CPU cores  : 4\n",
      "interpreter: 64bit\n"
     ]
    }
   ],
   "source": [
    "%watermark -a 'Maastricht University' -nmv --packages numpy,pandas,sklearn,matplotlib"
   ]
  },
  {
   "cell_type": "markdown",
   "metadata": {},
   "source": [
    "---\n",
    "- ### Results"
   ]
  },
  {
   "cell_type": "markdown",
   "metadata": {},
   "source": [
    "There we have it: We have a complete and reproducible Machine Learning pipeline to demo to our company's Head of Data. We've met the success criteria that we set from the beginning (>90% accuracy), and our pipeline is flexible enough to handle new inputs or flowers when that data set is ready"
   ]
  },
  {
   "cell_type": "markdown",
   "metadata": {},
   "source": [
    "- With the Data-story (Notebook, Tableau story, R-Markdown, Slides, etc) on hand, ask… What’s next? \n",
    "- Improve the model?\n",
    "- Improve the data?\n",
    "- Join more researchers to the problem?\n"
   ]
  },
  {
   "cell_type": "code",
   "execution_count": null,
   "metadata": {},
   "outputs": [],
   "source": []
  }
 ],
 "metadata": {
  "kernelspec": {
   "display_name": "Python 3",
   "language": "python",
   "name": "python3"
  },
  "language_info": {
   "codemirror_mode": {
    "name": "ipython",
    "version": 3
   },
   "file_extension": ".py",
   "mimetype": "text/x-python",
   "name": "python",
   "nbconvert_exporter": "python",
   "pygments_lexer": "ipython3",
   "version": "3.5.4"
  }
 },
 "nbformat": 4,
 "nbformat_minor": 2
}
