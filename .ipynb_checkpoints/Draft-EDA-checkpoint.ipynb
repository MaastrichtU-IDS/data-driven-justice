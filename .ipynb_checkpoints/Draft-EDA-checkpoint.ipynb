{
 "cells": [
  {
   "cell_type": "code",
   "execution_count": 1,
   "metadata": {},
   "outputs": [
    {
     "name": "stdout",
     "output_type": "stream",
     "text": [
      "Python 3.5.4 :: Anaconda, Inc.\n"
     ]
    }
   ],
   "source": [
    "!python --version"
   ]
  },
  {
   "cell_type": "code",
   "execution_count": 30,
   "metadata": {},
   "outputs": [
    {
     "name": "stdout",
     "output_type": "stream",
     "text": [
      "Python 3.5.4\n"
     ]
    }
   ],
   "source": [
    "import sys\n",
    "print (\"Python {}.{}.{}\".format(sys.version_info[0],sys.version_info[1], sys.version_info[2]))"
   ]
  },
  {
   "cell_type": "markdown",
   "metadata": {},
   "source": [
    "## Data Drive Justice\n",
    "---"
   ]
  },
  {
   "cell_type": "markdown",
   "metadata": {},
   "source": [
    "### Guideline\n",
    "We are going to collect and analyze data about crimes that would help us to: \n",
    "- Reveal patterns relevant to criminal justice, When and where will the next crime take place in a specific region or community\n",
    "- Identify interesting uses of these data e.g. identify discriminatory practices or predict future crime events\n",
    "- Crime Classification: How does the socio-economic background of a person influence their probability of committing a crime? How does the socio-economic background of the criminal relate to the type of crime committed? \n",
    "- Perception of safety among citizens: What factors influence the perception of safety for European citizens?\n",
    "- Investigate the relationship between perception of crime and actual crime statistics within communities.\n",
    "- Can we explain regional differences, e.g. by looking at the demographics, prevalence of political affiliation or other interesting factors?"
   ]
  },
  {
   "cell_type": "markdown",
   "metadata": {},
   "source": [
    "### Data Science Pipeline\n",
    "---"
   ]
  },
  {
   "cell_type": "markdown",
   "metadata": {},
   "source": [
    "Exemplary Procedure Outline:\n",
    "Loop 1 (Data Exploration)\n",
    "Specify a set of research questions\n",
    "Create a data pipeline strategy\n",
    "Find and collect datasets \n",
    "Have a look at descriptive statistics \n",
    "Create new features as needed \n",
    "With the data on hand, continue to ask questions:\n",
    "Do we still have the same research questions?\n",
    "De we still have the same strategy?\n",
    "Shall we find other sources?\n",
    "​\n",
    "Loop 2 (Data Integration)\n",
    "Integrate raw data\n",
    "Write scripts for cleaning and aggregation\n",
    "Feature selection\n",
    "Variable interpretation\n",
    "Find correlation between variables\n",
    "With the summary on hand, continue to ask question:\n",
    "Do we need different variables?\n",
    "Do we need to normalize our features?\n",
    "Are we still confident we can answer the research question?\n",
    "​\n",
    "Loop 3 (Data Analysis)\n",
    "Identify the method to respond the target variables \n",
    "If is a crime pattern then: Anomaly Detection\n",
    "If is a crime circle then: Time Series\n",
    "If is a crime category then: Classification\n",
    "If is the quantity of crimes then: Regression\n",
    "If is a concept and not a target variable then: Density unsupervised\n",
    "Etc. (All options enunciative but not limitative)\n",
    "Design a concept to visualize the outcome\n",
    "Choose and develop the algorithm (e.g. if Classification, SVM or Bayes?)\n",
    "Plot the outcomes\n",
    "With the summary on hand, ask…\n",
    "Does the outcome makes sense?\n",
    "What does the important variables mean? (on “human” language)\n",
    "How improve the outcome? (add more target variables? Change it? Change the parameters? Change the method?)\n",
    "​\n",
    "Loop 4 (Data Communication)\n",
    "Document the procedures\n",
    "Versioning control of script for replicable science\n",
    "Develop a Data Storytelling\n",
    "With the Data-story (Notebook, Tableau story, R-Markdown, Slides, etc) on hand, ask… What’s next? \n",
    "Improve the model?\n",
    "Improve the data?\n",
    "Join more researchers to the problem?\n"
   ]
  },
  {
   "cell_type": "code",
   "execution_count": 1,
   "metadata": {},
   "outputs": [],
   "source": [
    "import pandas as pd\n",
    "import requests\n",
    "import json\n",
    "import matplotlib.pyplot as plt\n",
    "%matplotlib inline"
   ]
  },
  {
   "cell_type": "markdown",
   "metadata": {},
   "source": [
    "### JSON Editor\n",
    "http://jsoneditoronline.org/\n",
    "\n",
    "### Data Portal\n",
    "https://data.overheid.nl/data/dataset?q=crime&sort=score+desc%2C+modified+desc%2C+metadata_modified+desc"
   ]
  },
  {
   "cell_type": "markdown",
   "metadata": {},
   "source": [
    "### Deaths; murder and manslaughter, crime scene in The Netherlands\n",
    "This table contains the number of persons died as a result of murder or manslaughter, where the crime scene is located in the Netherlands. The victims can be residents or non-residents. The data can be split by location of the crime, method, age and sex. The date of death is the criterion, the date of the act can be in the previous year. The ICD10 codes that belong to murder and manslaughter are X85-Y09.  \n",
    "https://data.overheid.nl/data/dataset/deaths-murder-and-manslaughter-crime-scene-in-the-netherlands"
   ]
  },
  {
   "cell_type": "code",
   "execution_count": 66,
   "metadata": {},
   "outputs": [
    {
     "name": "stdout",
     "output_type": "stream",
     "text": [
      "{'url': 'http://opendata.cbs.nl/ODataApi/OData/81453ENG/TableInfos', 'name': 'TableInfos'}\n",
      "{'url': 'http://opendata.cbs.nl/ODataApi/OData/81453ENG/UntypedDataSet', 'name': 'UntypedDataSet'}\n",
      "{'url': 'http://opendata.cbs.nl/ODataApi/OData/81453ENG/TypedDataSet', 'name': 'TypedDataSet'}\n",
      "{'url': 'http://opendata.cbs.nl/ODataApi/OData/81453ENG/DataProperties', 'name': 'DataProperties'}\n",
      "{'url': 'http://opendata.cbs.nl/ODataApi/OData/81453ENG/CategoryGroups', 'name': 'CategoryGroups'}\n",
      "{'url': 'http://opendata.cbs.nl/ODataApi/OData/81453ENG/Sex', 'name': 'Sex'}\n",
      "{'url': 'http://opendata.cbs.nl/ODataApi/OData/81453ENG/Age', 'name': 'Age'}\n",
      "{'url': 'http://opendata.cbs.nl/ODataApi/OData/81453ENG/Periods', 'name': 'Periods'}\n"
     ]
    }
   ],
   "source": [
    "r = requests.get(\"http://opendata.cbs.nl/ODataApi/OData/81453ENG\")\n",
    "service = json.loads(r.text)\n",
    "for i in service['value']:\n",
    "    print (i)"
   ]
  },
  {
   "cell_type": "markdown",
   "metadata": {},
   "source": [
    "### Crimes, type of crime\n",
    "This table contains figures on the number of registered crimes. These are broken down according to the type of crime, including figures on High Impact Crimes (theft / burglary, violent crimes, robberies, street robbery). The crime types shown are a selection of all crime types, and do not add up to the Total number of crimes.\n",
    "Data available from: 2014  \n",
    "https://data.overheid.nl/data/dataset/misdrijven-soort-misdrijf"
   ]
  },
  {
   "cell_type": "code",
   "execution_count": 55,
   "metadata": {},
   "outputs": [
    {
     "name": "stdout",
     "output_type": "stream",
     "text": [
      "{'url': 'https://dataderden.cbs.nl/ODataApi/OData/47005NED/TableInfos', 'name': 'TableInfos'}\n",
      "{'url': 'https://dataderden.cbs.nl/ODataApi/OData/47005NED/UntypedDataSet', 'name': 'UntypedDataSet'}\n",
      "{'url': 'https://dataderden.cbs.nl/ODataApi/OData/47005NED/TypedDataSet', 'name': 'TypedDataSet'}\n",
      "{'url': 'https://dataderden.cbs.nl/ODataApi/OData/47005NED/DataProperties', 'name': 'DataProperties'}\n",
      "{'url': 'https://dataderden.cbs.nl/ODataApi/OData/47005NED/CategoryGroups', 'name': 'CategoryGroups'}\n",
      "{'url': 'https://dataderden.cbs.nl/ODataApi/OData/47005NED/SoortMisdrijf', 'name': 'SoortMisdrijf'}\n",
      "{'url': 'https://dataderden.cbs.nl/ODataApi/OData/47005NED/Perioden', 'name': 'Perioden'}\n"
     ]
    }
   ],
   "source": [
    "r = requests.get(\"https://dataderden.cbs.nl/ODataApi/OData/47005NED\")\n",
    "service = json.loads(r.text)\n",
    "for i in service['value']:\n",
    "    print (i)"
   ]
  },
  {
   "cell_type": "code",
   "execution_count": 56,
   "metadata": {},
   "outputs": [],
   "source": [
    "values = []\n",
    "for value in service['value']:\n",
    "    values.append(value['url'])\n",
    "    values.append(value['name'])\n",
    "    \n",
    "df = pd.DataFrame([values]).T"
   ]
  },
  {
   "cell_type": "code",
   "execution_count": 57,
   "metadata": {},
   "outputs": [
    {
     "data": {
      "text/plain": [
       "['https://dataderden.cbs.nl/ODataApi/OData/47005NED/TableInfos',\n",
       " 'TableInfos',\n",
       " 'https://dataderden.cbs.nl/ODataApi/OData/47005NED/UntypedDataSet',\n",
       " 'UntypedDataSet',\n",
       " 'https://dataderden.cbs.nl/ODataApi/OData/47005NED/TypedDataSet',\n",
       " 'TypedDataSet',\n",
       " 'https://dataderden.cbs.nl/ODataApi/OData/47005NED/DataProperties',\n",
       " 'DataProperties',\n",
       " 'https://dataderden.cbs.nl/ODataApi/OData/47005NED/CategoryGroups',\n",
       " 'CategoryGroups',\n",
       " 'https://dataderden.cbs.nl/ODataApi/OData/47005NED/SoortMisdrijf',\n",
       " 'SoortMisdrijf',\n",
       " 'https://dataderden.cbs.nl/ODataApi/OData/47005NED/Perioden',\n",
       " 'Perioden']"
      ]
     },
     "execution_count": 57,
     "metadata": {},
     "output_type": "execute_result"
    }
   ],
   "source": [
    "values"
   ]
  },
  {
   "cell_type": "code",
   "execution_count": null,
   "metadata": {},
   "outputs": [],
   "source": []
  },
  {
   "cell_type": "markdown",
   "metadata": {},
   "source": [
    "## Normalize"
   ]
  },
  {
   "cell_type": "code",
   "execution_count": 58,
   "metadata": {},
   "outputs": [],
   "source": [
    "from pandas.io.json import json_normalize"
   ]
  },
  {
   "cell_type": "code",
   "execution_count": 67,
   "metadata": {},
   "outputs": [],
   "source": [
    "df_meta = json_normalize(service['value'])"
   ]
  },
  {
   "cell_type": "code",
   "execution_count": 68,
   "metadata": {},
   "outputs": [
    {
     "data": {
      "text/html": [
       "<div>\n",
       "<style scoped>\n",
       "    .dataframe tbody tr th:only-of-type {\n",
       "        vertical-align: middle;\n",
       "    }\n",
       "\n",
       "    .dataframe tbody tr th {\n",
       "        vertical-align: top;\n",
       "    }\n",
       "\n",
       "    .dataframe thead th {\n",
       "        text-align: right;\n",
       "    }\n",
       "</style>\n",
       "<table border=\"1\" class=\"dataframe\">\n",
       "  <thead>\n",
       "    <tr style=\"text-align: right;\">\n",
       "      <th></th>\n",
       "      <th>name</th>\n",
       "      <th>url</th>\n",
       "    </tr>\n",
       "  </thead>\n",
       "  <tbody>\n",
       "    <tr>\n",
       "      <th>0</th>\n",
       "      <td>TableInfos</td>\n",
       "      <td>http://opendata.cbs.nl/ODataApi/OData/81453ENG...</td>\n",
       "    </tr>\n",
       "    <tr>\n",
       "      <th>1</th>\n",
       "      <td>UntypedDataSet</td>\n",
       "      <td>http://opendata.cbs.nl/ODataApi/OData/81453ENG...</td>\n",
       "    </tr>\n",
       "    <tr>\n",
       "      <th>2</th>\n",
       "      <td>TypedDataSet</td>\n",
       "      <td>http://opendata.cbs.nl/ODataApi/OData/81453ENG...</td>\n",
       "    </tr>\n",
       "    <tr>\n",
       "      <th>3</th>\n",
       "      <td>DataProperties</td>\n",
       "      <td>http://opendata.cbs.nl/ODataApi/OData/81453ENG...</td>\n",
       "    </tr>\n",
       "    <tr>\n",
       "      <th>4</th>\n",
       "      <td>CategoryGroups</td>\n",
       "      <td>http://opendata.cbs.nl/ODataApi/OData/81453ENG...</td>\n",
       "    </tr>\n",
       "    <tr>\n",
       "      <th>5</th>\n",
       "      <td>Sex</td>\n",
       "      <td>http://opendata.cbs.nl/ODataApi/OData/81453ENG...</td>\n",
       "    </tr>\n",
       "    <tr>\n",
       "      <th>6</th>\n",
       "      <td>Age</td>\n",
       "      <td>http://opendata.cbs.nl/ODataApi/OData/81453ENG...</td>\n",
       "    </tr>\n",
       "    <tr>\n",
       "      <th>7</th>\n",
       "      <td>Periods</td>\n",
       "      <td>http://opendata.cbs.nl/ODataApi/OData/81453ENG...</td>\n",
       "    </tr>\n",
       "  </tbody>\n",
       "</table>\n",
       "</div>"
      ],
      "text/plain": [
       "             name                                                url\n",
       "0      TableInfos  http://opendata.cbs.nl/ODataApi/OData/81453ENG...\n",
       "1  UntypedDataSet  http://opendata.cbs.nl/ODataApi/OData/81453ENG...\n",
       "2    TypedDataSet  http://opendata.cbs.nl/ODataApi/OData/81453ENG...\n",
       "3  DataProperties  http://opendata.cbs.nl/ODataApi/OData/81453ENG...\n",
       "4  CategoryGroups  http://opendata.cbs.nl/ODataApi/OData/81453ENG...\n",
       "5             Sex  http://opendata.cbs.nl/ODataApi/OData/81453ENG...\n",
       "6             Age  http://opendata.cbs.nl/ODataApi/OData/81453ENG...\n",
       "7         Periods  http://opendata.cbs.nl/ODataApi/OData/81453ENG..."
      ]
     },
     "execution_count": 68,
     "metadata": {},
     "output_type": "execute_result"
    }
   ],
   "source": [
    "df_meta"
   ]
  },
  {
   "cell_type": "code",
   "execution_count": 69,
   "metadata": {},
   "outputs": [],
   "source": [
    "df_meta.index = df_meta['name']"
   ]
  },
  {
   "cell_type": "code",
   "execution_count": 70,
   "metadata": {},
   "outputs": [],
   "source": [
    "#TableInfos\n",
    "tableinfos = df_meta.loc['TableInfos']['url']"
   ]
  },
  {
   "cell_type": "code",
   "execution_count": 71,
   "metadata": {},
   "outputs": [
    {
     "data": {
      "text/plain": [
       "'http://opendata.cbs.nl/ODataApi/OData/81453ENG/TableInfos'"
      ]
     },
     "execution_count": 71,
     "metadata": {},
     "output_type": "execute_result"
    }
   ],
   "source": [
    "tableinfos"
   ]
  },
  {
   "cell_type": "code",
   "execution_count": 72,
   "metadata": {},
   "outputs": [
    {
     "data": {
      "text/html": [
       "<div>\n",
       "<style scoped>\n",
       "    .dataframe tbody tr th:only-of-type {\n",
       "        vertical-align: middle;\n",
       "    }\n",
       "\n",
       "    .dataframe tbody tr th {\n",
       "        vertical-align: top;\n",
       "    }\n",
       "\n",
       "    .dataframe thead th {\n",
       "        text-align: right;\n",
       "    }\n",
       "</style>\n",
       "<table border=\"1\" class=\"dataframe\">\n",
       "  <thead>\n",
       "    <tr style=\"text-align: right;\">\n",
       "      <th></th>\n",
       "      <th>0</th>\n",
       "    </tr>\n",
       "  </thead>\n",
       "  <tbody>\n",
       "    <tr>\n",
       "      <th>Catalog</th>\n",
       "      <td>CBS</td>\n",
       "    </tr>\n",
       "    <tr>\n",
       "      <th>DefaultPresentation</th>\n",
       "      <td>graphtype=Table&amp;r=Age,Periods&amp;k=Topics&amp;t=Sex</td>\n",
       "    </tr>\n",
       "    <tr>\n",
       "      <th>DefaultSelection</th>\n",
       "      <td>$filter=((Sex eq '1100')) and ((Age eq '10000'...</td>\n",
       "    </tr>\n",
       "    <tr>\n",
       "      <th>Description</th>\n",
       "      <td>CONTENTS\\r\\n\\r\\n1. General information\\r\\n2. D...</td>\n",
       "    </tr>\n",
       "    <tr>\n",
       "      <th>ExplanatoryText</th>\n",
       "      <td></td>\n",
       "    </tr>\n",
       "    <tr>\n",
       "      <th>Frequency</th>\n",
       "      <td>Yearly</td>\n",
       "    </tr>\n",
       "    <tr>\n",
       "      <th>GraphTypes</th>\n",
       "      <td>Table,Bar,Line</td>\n",
       "    </tr>\n",
       "    <tr>\n",
       "      <th>ID</th>\n",
       "      <td>0</td>\n",
       "    </tr>\n",
       "    <tr>\n",
       "      <th>Identifier</th>\n",
       "      <td>81453ENG</td>\n",
       "    </tr>\n",
       "    <tr>\n",
       "      <th>Language</th>\n",
       "      <td>en</td>\n",
       "    </tr>\n",
       "    <tr>\n",
       "      <th>MetaDataModified</th>\n",
       "      <td>2017-12-28T02:00:00</td>\n",
       "    </tr>\n",
       "    <tr>\n",
       "      <th>Modified</th>\n",
       "      <td>2017-12-28T02:00:00</td>\n",
       "    </tr>\n",
       "    <tr>\n",
       "      <th>OutputStatus</th>\n",
       "      <td>Regular</td>\n",
       "    </tr>\n",
       "    <tr>\n",
       "      <th>Period</th>\n",
       "      <td>1996-2016</td>\n",
       "    </tr>\n",
       "    <tr>\n",
       "      <th>ReasonDelivery</th>\n",
       "      <td>Change</td>\n",
       "    </tr>\n",
       "    <tr>\n",
       "      <th>SearchPriority</th>\n",
       "      <td>2</td>\n",
       "    </tr>\n",
       "    <tr>\n",
       "      <th>ShortDescription</th>\n",
       "      <td>\\nThis table contains the number of persons di...</td>\n",
       "    </tr>\n",
       "    <tr>\n",
       "      <th>ShortTitle</th>\n",
       "      <td>Deaths; murder and manslaughter</td>\n",
       "    </tr>\n",
       "    <tr>\n",
       "      <th>Source</th>\n",
       "      <td>CBS.</td>\n",
       "    </tr>\n",
       "    <tr>\n",
       "      <th>Summary</th>\n",
       "      <td>Persons died as a result of murder or manslaug...</td>\n",
       "    </tr>\n",
       "    <tr>\n",
       "      <th>Title</th>\n",
       "      <td>Deaths; murder and manslaughter, crime scene i...</td>\n",
       "    </tr>\n",
       "  </tbody>\n",
       "</table>\n",
       "</div>"
      ],
      "text/plain": [
       "                                                                     0\n",
       "Catalog                                                            CBS\n",
       "DefaultPresentation       graphtype=Table&r=Age,Periods&k=Topics&t=Sex\n",
       "DefaultSelection     $filter=((Sex eq '1100')) and ((Age eq '10000'...\n",
       "Description          CONTENTS\\r\\n\\r\\n1. General information\\r\\n2. D...\n",
       "ExplanatoryText                                                       \n",
       "Frequency                                                       Yearly\n",
       "GraphTypes                                              Table,Bar,Line\n",
       "ID                                                                   0\n",
       "Identifier                                                    81453ENG\n",
       "Language                                                            en\n",
       "MetaDataModified                                   2017-12-28T02:00:00\n",
       "Modified                                           2017-12-28T02:00:00\n",
       "OutputStatus                                                   Regular\n",
       "Period                                                       1996-2016\n",
       "ReasonDelivery                                                  Change\n",
       "SearchPriority                                                       2\n",
       "ShortDescription     \\nThis table contains the number of persons di...\n",
       "ShortTitle                             Deaths; murder and manslaughter\n",
       "Source                                                            CBS.\n",
       "Summary              Persons died as a result of murder or manslaug...\n",
       "Title                Deaths; murder and manslaughter, crime scene i..."
      ]
     },
     "execution_count": 72,
     "metadata": {},
     "output_type": "execute_result"
    }
   ],
   "source": [
    "r_tableinfos = requests.get(tableinfos)\n",
    "json_normalize(json.loads(r_tableinfos.text)['value']).T"
   ]
  },
  {
   "cell_type": "code",
   "execution_count": null,
   "metadata": {},
   "outputs": [],
   "source": []
  },
  {
   "cell_type": "code",
   "execution_count": null,
   "metadata": {},
   "outputs": [],
   "source": []
  },
  {
   "cell_type": "code",
   "execution_count": null,
   "metadata": {},
   "outputs": [],
   "source": []
  },
  {
   "cell_type": "code",
   "execution_count": null,
   "metadata": {},
   "outputs": [],
   "source": []
  },
  {
   "cell_type": "code",
   "execution_count": null,
   "metadata": {},
   "outputs": [],
   "source": []
  }
 ],
 "metadata": {
  "kernelspec": {
   "display_name": "Python 3",
   "language": "python",
   "name": "python3"
  },
  "language_info": {
   "codemirror_mode": {
    "name": "ipython",
    "version": 3
   },
   "file_extension": ".py",
   "mimetype": "text/x-python",
   "name": "python",
   "nbconvert_exporter": "python",
   "pygments_lexer": "ipython3",
   "version": "3.5.4"
  }
 },
 "nbformat": 4,
 "nbformat_minor": 2
}
